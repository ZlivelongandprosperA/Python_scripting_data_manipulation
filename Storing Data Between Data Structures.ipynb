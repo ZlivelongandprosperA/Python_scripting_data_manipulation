{
 "cells": [
  {
   "cell_type": "markdown",
   "id": "734bf76f",
   "metadata": {},
   "source": [
    "# Storing data"
   ]
  },
  {
   "cell_type": "markdown",
   "id": "84088ce4",
   "metadata": {},
   "source": [
    "## rr"
   ]
  },
  {
   "cell_type": "code",
   "execution_count": 14,
   "id": "6be582b5",
   "metadata": {},
   "outputs": [],
   "source": [
    "# collect items in home directory\n",
    "import os\n",
    "home_items = os.listdir('C:\\SparkCourse')\n",
    "home_content = {\"files\": [], \"directories\": []}"
   ]
  },
  {
   "cell_type": "code",
   "execution_count": 15,
   "id": "d581dccd",
   "metadata": {},
   "outputs": [
    {
     "data": {
      "text/plain": [
       "['ADVANCED',\n",
       " 'cheat sheets',\n",
       " 'DATAFRAME',\n",
       " 'ml-100k',\n",
       " 'ml-1m',\n",
       " 'ml-1m.zip',\n",
       " 'movies.dat',\n",
       " 'MovieSimilarities1M.py',\n",
       " 'putty.exe',\n",
       " 'puttygen.exe',\n",
       " 'ratings.dat',\n",
       " 'RDD',\n",
       " 'README',\n",
       " 'SparkSQL',\n",
       " 'users.dat']"
      ]
     },
     "execution_count": 15,
     "metadata": {},
     "output_type": "execute_result"
    }
   ],
   "source": [
    "home_items"
   ]
  },
  {
   "cell_type": "code",
   "execution_count": 16,
   "id": "9de86dcf",
   "metadata": {},
   "outputs": [
    {
     "data": {
      "text/plain": [
       "15"
      ]
     },
     "execution_count": 16,
     "metadata": {},
     "output_type": "execute_result"
    }
   ],
   "source": [
    "len(home_items)"
   ]
  },
  {
   "cell_type": "code",
   "execution_count": 17,
   "id": "62fe8db6",
   "metadata": {},
   "outputs": [
    {
     "data": {
      "text/plain": [
       "{'files': ['C:\\\\SparkCourse\\\\ml-1m.zip',\n",
       "  'C:\\\\SparkCourse\\\\movies.dat',\n",
       "  'C:\\\\SparkCourse\\\\MovieSimilarities1M.py',\n",
       "  'C:\\\\SparkCourse\\\\putty.exe',\n",
       "  'C:\\\\SparkCourse\\\\puttygen.exe',\n",
       "  'C:\\\\SparkCourse\\\\ratings.dat',\n",
       "  'C:\\\\SparkCourse\\\\README',\n",
       "  'C:\\\\SparkCourse\\\\users.dat'],\n",
       " 'directories': ['C:\\\\SparkCourse\\\\ADVANCED',\n",
       "  'C:\\\\SparkCourse\\\\cheat sheets',\n",
       "  'C:\\\\SparkCourse\\\\DATAFRAME',\n",
       "  'C:\\\\SparkCourse\\\\ml-100k',\n",
       "  'C:\\\\SparkCourse\\\\ml-1m',\n",
       "  'C:\\\\SparkCourse\\\\RDD',\n",
       "  'C:\\\\SparkCourse\\\\SparkSQL']}"
      ]
     },
     "execution_count": 17,
     "metadata": {},
     "output_type": "execute_result"
    }
   ],
   "source": [
    "# separate files and directories\n",
    "\n",
    "home_paths = [os.path.join('C:\\SparkCourse', item) for item in home_items]\n",
    "for path in home_paths:\n",
    "    if os.path.isdir(path):\n",
    "        home_content[\"directories\"].append(path)\n",
    "    if os.path.isfile(path):\n",
    "        home_content[\"files\"].append(path)\n",
    "home_content"
   ]
  },
  {
   "cell_type": "code",
   "execution_count": 18,
   "id": "0beae3f2",
   "metadata": {},
   "outputs": [
    {
     "name": "stdout",
     "output_type": "stream",
     "text": [
      "C:\\SparkCourse\\ml-1m.zip\n",
      "C:\\SparkCourse\\movies.dat\n",
      "C:\\SparkCourse\\MovieSimilarities1M.py\n",
      "C:\\SparkCourse\\putty.exe\n",
      "C:\\SparkCourse\\puttygen.exe\n",
      "C:\\SparkCourse\\ratings.dat\n",
      "C:\\SparkCourse\\README\n",
      "C:\\SparkCourse\\users.dat\n"
     ]
    }
   ],
   "source": [
    "for item in home_content[\"files\"]:\n",
    "    print(item)"
   ]
  },
  {
   "cell_type": "code",
   "execution_count": 19,
   "id": "a10292ea",
   "metadata": {},
   "outputs": [
    {
     "name": "stdout",
     "output_type": "stream",
     "text": [
      "C:\\SparkCourse\\ADVANCED\n",
      "C:\\SparkCourse\\cheat sheets\n",
      "C:\\SparkCourse\\DATAFRAME\n",
      "C:\\SparkCourse\\ml-100k\n",
      "C:\\SparkCourse\\ml-1m\n",
      "C:\\SparkCourse\\RDD\n",
      "C:\\SparkCourse\\SparkSQL\n"
     ]
    }
   ],
   "source": [
    "for item in home_content[\"directories\"]:\n",
    "    print(item)"
   ]
  },
  {
   "cell_type": "code",
   "execution_count": null,
   "id": "0fdac10f",
   "metadata": {},
   "outputs": [],
   "source": []
  }
 ],
 "metadata": {
  "kernelspec": {
   "display_name": "Python 3 (ipykernel)",
   "language": "python",
   "name": "python3"
  },
  "language_info": {
   "codemirror_mode": {
    "name": "ipython",
    "version": 3
   },
   "file_extension": ".py",
   "mimetype": "text/x-python",
   "name": "python",
   "nbconvert_exporter": "python",
   "pygments_lexer": "ipython3",
   "version": "3.9.12"
  }
 },
 "nbformat": 4,
 "nbformat_minor": 5
}
