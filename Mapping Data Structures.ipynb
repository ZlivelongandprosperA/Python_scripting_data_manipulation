{
 "cells": [
  {
   "cell_type": "markdown",
   "id": "28101f1c",
   "metadata": {},
   "source": [
    "# Mapping data"
   ]
  },
  {
   "cell_type": "markdown",
   "id": "7aa98baa",
   "metadata": {},
   "source": [
    "## Manipulating lists"
   ]
  },
  {
   "cell_type": "code",
   "execution_count": 19,
   "id": "06bf5032",
   "metadata": {},
   "outputs": [
    {
     "name": "stdout",
     "output_type": "stream",
     "text": [
      "Alfredo\n",
      "Kennedy\n"
     ]
    }
   ],
   "source": [
    "names = [\"Alfredo\", \"Noah\", \"Kennedy\", \"Jim\"]\n",
    "\n",
    "for name in names:\n",
    "    if len(name) > 5:\n",
    "        print(name)"
   ]
  },
  {
   "cell_type": "code",
   "execution_count": 20,
   "id": "b82b2b85",
   "metadata": {},
   "outputs": [
    {
     "data": {
      "text/plain": [
       "['Alfredo', 'Kennedy']"
      ]
     },
     "execution_count": 20,
     "metadata": {},
     "output_type": "execute_result"
    }
   ],
   "source": [
    "long_names = [name for name in names if len(name) > 5]\n",
    "long_names"
   ]
  },
  {
   "cell_type": "markdown",
   "id": "a61c21cf",
   "metadata": {},
   "source": [
    "## Manipulating dictionaries"
   ]
  },
  {
   "cell_type": "code",
   "execution_count": 21,
   "id": "c088e7aa",
   "metadata": {},
   "outputs": [],
   "source": [
    "contacts = {\"Alfredo\": \"alfredo@example.org\", \"Kennedy\": \"kennedy@example.org\", \"Noah\": \"noah@example.org\"}"
   ]
  },
  {
   "cell_type": "code",
   "execution_count": 22,
   "id": "0f8df1a8",
   "metadata": {},
   "outputs": [
    {
     "name": "stdout",
     "output_type": "stream",
     "text": [
      "Alfredo\n",
      "Kennedy\n",
      "Noah\n"
     ]
    }
   ],
   "source": [
    "for contact in contacts.keys():\n",
    "    print(contact)"
   ]
  },
  {
   "cell_type": "code",
   "execution_count": 23,
   "id": "71626f40",
   "metadata": {},
   "outputs": [
    {
     "name": "stdout",
     "output_type": "stream",
     "text": [
      "alfredo@example.org\n",
      "kennedy@example.org\n",
      "noah@example.org\n"
     ]
    }
   ],
   "source": [
    "for contact in contacts.values():\n",
    "    print(contact)"
   ]
  },
  {
   "cell_type": "code",
   "execution_count": 24,
   "id": "0897b582",
   "metadata": {},
   "outputs": [
    {
     "name": "stdout",
     "output_type": "stream",
     "text": [
      "Alfredo alfredo@example.org\n",
      "Kennedy kennedy@example.org\n",
      "Noah noah@example.org\n"
     ]
    }
   ],
   "source": [
    "for name, email in contacts.items():\n",
    "    print(name, email)"
   ]
  },
  {
   "cell_type": "markdown",
   "id": "835d95ec",
   "metadata": {},
   "source": [
    "## Manipulating other data structures"
   ]
  },
  {
   "cell_type": "code",
   "execution_count": 25,
   "id": "7b355627",
   "metadata": {},
   "outputs": [],
   "source": [
    "read_only = (1, 2, 3, 4)\n",
    "unique = {1, 1, 1, 2, 2, 3}\n"
   ]
  },
  {
   "cell_type": "code",
   "execution_count": 26,
   "id": "fad6d902",
   "metadata": {},
   "outputs": [
    {
     "name": "stdout",
     "output_type": "stream",
     "text": [
      "{1, 2, 3}\n"
     ]
    }
   ],
   "source": [
    "print(unique)"
   ]
  },
  {
   "cell_type": "code",
   "execution_count": 27,
   "id": "343730c2",
   "metadata": {},
   "outputs": [
    {
     "name": "stdout",
     "output_type": "stream",
     "text": [
      "1\n",
      "2\n",
      "3\n",
      "4\n"
     ]
    }
   ],
   "source": [
    "for ro_item in read_only:\n",
    "    print(ro_item)"
   ]
  },
  {
   "cell_type": "code",
   "execution_count": 28,
   "id": "b5ddaf44",
   "metadata": {},
   "outputs": [
    {
     "name": "stdout",
     "output_type": "stream",
     "text": [
      "1\n",
      "2\n",
      "3\n"
     ]
    }
   ],
   "source": [
    "for item in unique:\n",
    "    print(item)"
   ]
  },
  {
   "cell_type": "code",
   "execution_count": null,
   "id": "16b32ff3",
   "metadata": {},
   "outputs": [],
   "source": []
  }
 ],
 "metadata": {
  "kernelspec": {
   "display_name": "Python 3 (ipykernel)",
   "language": "python",
   "name": "python3"
  },
  "language_info": {
   "codemirror_mode": {
    "name": "ipython",
    "version": 3
   },
   "file_extension": ".py",
   "mimetype": "text/x-python",
   "name": "python",
   "nbconvert_exporter": "python",
   "pygments_lexer": "ipython3",
   "version": "3.9.12"
  }
 },
 "nbformat": 4,
 "nbformat_minor": 5
}
